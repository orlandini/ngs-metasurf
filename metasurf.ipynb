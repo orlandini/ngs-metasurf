{
 "cells": [
  {
   "cell_type": "markdown",
   "id": "c4ff88cd-73ad-45f6-9914-3c8b030b347f",
   "metadata": {},
   "source": [
    "# Metasurface test"
   ]
  },
  {
   "cell_type": "code",
   "execution_count": 1,
   "id": "d64f47e1-b3cc-48d5-ba0b-d12309273c28",
   "metadata": {},
   "outputs": [],
   "source": [
    "import numpy as np\n",
    "from timeit import default_timer as timer\n",
    "import matplotlib.pyplot as plt\n",
    "\n",
    "\n",
    "from ngsolve import *\n",
    "from ngsolve.webgui import Draw\n",
    "from ngsolve.krylovspace import GMRes\n",
    "\n",
    "from cross import create_cross_mesh\n",
    "from mat_indices import ag_n, ag_k, al_n, al_k, glass_n, glass_k\n",
    "\n",
    "ngsglobals.msg_level = 1"
   ]
  },
  {
   "cell_type": "code",
   "execution_count": 2,
   "id": "5b45bc42",
   "metadata": {},
   "outputs": [],
   "source": [
    "nel = 12\n",
    "#it is certainly smaller than this\n",
    "n_glass = 1.55\n",
    "min_wavelength = 1\n",
    "\n",
    "w_domain = 0.8\n",
    "h_domain = 0.7\n",
    "w_cross = 0.05\n",
    "l_cross = 0.5\n",
    "h_silver = 0.3\n",
    "h_sub = 0.1\n",
    "h_pml = 0.1\n",
    "el_ag = min_wavelength/nel\n",
    "el_air = min_wavelength/nel\n",
    "el_sub = n_glass*min_wavelength/nel\n",
    "d_cross = 0.2"
   ]
  },
  {
   "cell_type": "markdown",
   "id": "79c38e55-c89e-4100-866e-27757e30efb7",
   "metadata": {},
   "source": [
    "## Create mesh"
   ]
  },
  {
   "cell_type": "code",
   "execution_count": 3,
   "id": "6bb186f0",
   "metadata": {},
   "outputs": [
    {
     "name": "stdout",
     "output_type": "stream",
     "text": [
      " Delaunay meshing\n",
      " Delaunay meshing\n",
      " start tetmeshing\n",
      " Success !\n",
      " Delaunay meshing\n",
      " Delaunay meshing\n",
      " Delaunay meshing\n",
      " Volume Optimization\n"
     ]
    },
    {
     "data": {
      "application/vnd.jupyter.widget-view+json": {
       "model_id": "88414206ba224671b77a946d4eb1f01f",
       "version_major": 2,
       "version_minor": 0
      },
      "text/plain": [
       "WebGuiWidget(layout=Layout(height='50vh', width='100%'), value={'gui_settings': {}, 'ngsolve_version': '6.2.24…"
      ]
     },
     "metadata": {},
     "output_type": "display_data"
    },
    {
     "data": {
      "text/plain": [
       "BaseWebGuiScene"
      ]
     },
     "execution_count": 3,
     "metadata": {},
     "output_type": "execute_result"
    }
   ],
   "source": [
    "mesh = create_cross_mesh(w_domain,h_domain,w_cross,l_cross,d_cross,\n",
    "                         h_silver,h_sub,h_pml,el_ag,el_air,el_sub)\n",
    "\n",
    "#these dictionaries will be useful for inspecting the mesh\n",
    "\n",
    "#name of all 3d domains\n",
    "vollist = {\"air\":1, \"ag\":2, \"sub\":3, \"pml_air\":4,\n",
    "           \"pml_sub\":5}\n",
    "\n",
    "#name of all 2d domains\n",
    "surflist = {\n",
    "    'air_port': 1,\n",
    "    'sub_port' : 2,\n",
    "    'dirichlet' : 3,\n",
    "    }\n",
    "count = len(surflist)+1\n",
    "for name in vollist.keys():\n",
    "    surflist[name+\"_x_min\"] = count\n",
    "    count+=1\n",
    "    surflist[name+\"_x_max\"] = count\n",
    "    count+=1\n",
    "    surflist[name+\"_y_min\"] = count\n",
    "    count+=1\n",
    "    surflist[name+\"_y_max\"] = count\n",
    "    count+=1\n",
    "\n",
    "Draw(mesh)"
   ]
  },
  {
   "cell_type": "markdown",
   "id": "5a3513d0-27a8-4696-b4d7-5f27296ad23f",
   "metadata": {},
   "source": [
    "### Check boundary materials"
   ]
  },
  {
   "cell_type": "code",
   "execution_count": 4,
   "id": "e25746c4-43df-451f-9cd0-080b1b3b796d",
   "metadata": {},
   "outputs": [
    {
     "name": "stdout",
     "output_type": "stream",
     "text": [
      "{'air_port': 1, 'sub_port': 2, 'dirichlet': 3, 'air_x_min': 4, 'air_x_max': 5, 'air_y_min': 6, 'air_y_max': 7, 'ag_x_min': 8, 'ag_x_max': 9, 'ag_y_min': 10, 'ag_y_max': 11, 'sub_x_min': 12, 'sub_x_max': 13, 'sub_y_min': 14, 'sub_y_max': 15, 'pml_air_x_min': 16, 'pml_air_x_max': 17, 'pml_air_y_min': 18, 'pml_air_y_max': 19, 'pml_sub_x_min': 20, 'pml_sub_x_max': 21, 'pml_sub_y_min': 22, 'pml_sub_y_max': 23}\n"
     ]
    },
    {
     "data": {
      "application/vnd.jupyter.widget-view+json": {
       "model_id": "bd11c6e906e24fc0b55972fb16a2aa0e",
       "version_major": 2,
       "version_minor": 0
      },
      "text/plain": [
       "WebGuiWidget(layout=Layout(height='50vh', width='100%'), value={'gui_settings': {}, 'ngsolve_version': '6.2.24…"
      ]
     },
     "metadata": {},
     "output_type": "display_data"
    }
   ],
   "source": [
    "print(surflist)\n",
    "surf = mesh.BoundaryCF(surflist, -1)\n",
    "g = GridFunction(H1(mesh), name='bdry')\n",
    "g.Set(surf, definedon=mesh.Boundaries('.*'))\n",
    "Draw(g);"
   ]
  },
  {
   "cell_type": "markdown",
   "id": "431df0a2-3e8b-43bf-89a7-58f00af1f0b4",
   "metadata": {},
   "source": [
    "### Check volume materials"
   ]
  },
  {
   "cell_type": "code",
   "execution_count": 5,
   "id": "f275f295-0361-4b10-80ee-f0aa07938dfa",
   "metadata": {},
   "outputs": [
    {
     "name": "stdout",
     "output_type": "stream",
     "text": [
      "('pml_air', 'air', 'ag', 'sub', 'pml_sub')\n"
     ]
    },
    {
     "data": {
      "application/vnd.jupyter.widget-view+json": {
       "model_id": "0637952170f14abe87d928cfd9ee0807",
       "version_major": 2,
       "version_minor": 0
      },
      "text/plain": [
       "WebGuiWidget(layout=Layout(height='50vh', width='100%'), value={'gui_settings': {}, 'ngsolve_version': '6.2.24…"
      ]
     },
     "metadata": {},
     "output_type": "display_data"
    }
   ],
   "source": [
    "mat_cf = mesh.MaterialCF(vollist)\n",
    "print(mesh.GetMaterials())\n",
    "Draw(mat_cf, mesh, draw_surf=False);"
   ]
  },
  {
   "cell_type": "markdown",
   "id": "9f5e8e81",
   "metadata": {},
   "source": [
    "## Sweep over frequency range"
   ]
  },
  {
   "cell_type": "code",
   "execution_count": 9,
   "id": "1778db46",
   "metadata": {},
   "outputs": [
    {
     "name": "stdout",
     "output_type": "stream",
     "text": [
      "solving 1 out of 21\n",
      "assembling system with ndofs 124712\n",
      "done!\n",
      "solving...\n",
      "solved system in 62.70651080698008 seconds\n",
      "ref 0.7034495836769987 !\n",
      "solving 2 out of 21\n",
      "assembling system with ndofs 124712\n",
      "done!\n",
      "solving...\n",
      "solved system in 67.33190920599736 seconds\n",
      "ref 0.7120510902912771 !\n",
      "solving 3 out of 21\n",
      "assembling system with ndofs 124712\n",
      "done!\n",
      "solving...\n",
      "solved system in 59.96821535599884 seconds\n",
      "ref 0.724984472788374 !\n",
      "solving 4 out of 21\n",
      "assembling system with ndofs 124712\n",
      "done!\n",
      "solving...\n",
      "solved system in 61.78387021494564 seconds\n",
      "ref 0.744212989056444 !\n",
      "solving 5 out of 21\n",
      "assembling system with ndofs 124712\n",
      "done!\n",
      "solving...\n",
      "solved system in 62.496199975023046 seconds\n",
      "ref 0.7706479846760192 !\n",
      "solving 6 out of 21\n",
      "assembling system with ndofs 124712\n",
      "done!\n",
      "solving...\n",
      "solved system in 60.96756042598281 seconds\n",
      "ref 0.8094040915102604 !\n",
      "solving 7 out of 21\n",
      "assembling system with ndofs 124712\n",
      "done!\n",
      "solving...\n",
      "solved system in 57.39085944299586 seconds\n",
      "ref 0.8655741403791266 !\n",
      "solving 8 out of 21\n",
      "assembling system with ndofs 124712\n",
      "done!\n",
      "solving...\n",
      "solved system in 61.0747987049981 seconds\n",
      "ref 0.947671337101031 !\n",
      "solving 9 out of 21\n",
      "assembling system with ndofs 124712\n",
      "done!\n",
      "solving...\n",
      "solved system in 61.60845236398745 seconds\n",
      "ref 1.0677609518273539 !\n",
      "solving 10 out of 21\n",
      "assembling system with ndofs 124712\n",
      "done!\n",
      "solving...\n",
      "solved system in 62.062073076027445 seconds\n",
      "ref 1.2379567973481311 !\n",
      "solving 11 out of 21\n",
      "assembling system with ndofs 124712\n",
      "done!\n",
      "solving...\n",
      "solved system in 58.568702827964444 seconds\n",
      "ref 1.4503908508490642 !\n",
      "solving 12 out of 21\n",
      "assembling system with ndofs 124712\n",
      "done!\n",
      "solving...\n",
      "solved system in 66.58054466900649 seconds\n",
      "ref 1.6267639482728102 !\n",
      "solving 13 out of 21\n",
      "assembling system with ndofs 124712\n",
      "done!\n",
      "solving...\n",
      "solved system in 69.52378429903183 seconds\n",
      "ref 1.6195233478544826 !\n",
      "solving 14 out of 21\n",
      "assembling system with ndofs 124712\n",
      "done!\n",
      "solving...\n",
      "solved system in 88.29404335300205 seconds\n",
      "ref 1.4083737095101947 !\n",
      "solving 15 out of 21\n",
      "assembling system with ndofs 124712\n",
      "done!\n",
      "solving...\n",
      "solved system in 67.46674379700562 seconds\n",
      "ref 1.1471322365663312 !\n",
      "solving 16 out of 21\n",
      "assembling system with ndofs 124712\n",
      "done!\n",
      "solving...\n",
      "solved system in 71.69234603899531 seconds\n",
      "ref 0.9401696050251009 !\n",
      "solving 17 out of 21\n",
      "assembling system with ndofs 124712\n",
      "done!\n",
      "solving...\n",
      "solved system in 67.56260136602214 seconds\n",
      "ref 0.7986719114006459 !\n",
      "solving 18 out of 21\n",
      "assembling system with ndofs 124712\n",
      "done!\n",
      "solving...\n",
      "solved system in 72.95182206004392 seconds\n",
      "ref 0.7047338465505341 !\n",
      "solving 19 out of 21\n",
      "assembling system with ndofs 124712\n",
      "done!\n",
      "solving...\n",
      "solved system in 64.81226145196706 seconds\n",
      "ref 0.6421882042571957 !\n",
      "solving 20 out of 21\n",
      "assembling system with ndofs 124712\n",
      "done!\n",
      "solving...\n",
      "solved system in 66.1201339539839 seconds\n",
      "ref 0.5995037338588086 !\n",
      "solving 21 out of 21\n",
      "assembling system with ndofs 124712\n",
      "done!\n",
      "solving...\n",
      "solved system in 68.58975049300352 seconds\n",
      "ref 0.5685849311144663 !\n"
     ]
    }
   ],
   "source": [
    "wl_list = np.arange(1,1.1,0.005)\n",
    "porder = 3\n",
    "ref_list = []\n",
    "for it, wl in enumerate(wl_list):    \n",
    "    print(\"solving {} out of {}\".format(it+1,len(wl_list)))\n",
    "    ag_coeff = (ag_n(wl)-ag_k(wl)*1j)**2\n",
    "    #for now, silver instead of glass\n",
    "    sub_coeff = (ag_n(wl)-ag_k(wl)*1j)**2\n",
    "    air_coeff = 1\n",
    "\n",
    "    # defining permittivity for volume domains\n",
    "    erlist = {\n",
    "        'pml_air' : 1,\n",
    "        'air' : 1,\n",
    "        'ag' : ag_coeff,\n",
    "        #for now, substrate is silver\n",
    "        'sub' : sub_coeff,\n",
    "        'pml_sub' : sub_coeff,\n",
    "        }\n",
    "\n",
    "    er = er = mesh.MaterialCF(erlist, 0)\n",
    "    #non-magnetic materials only\n",
    "    ur = CF(1)\n",
    "\n",
    "    #now we define the PML regions\n",
    "    alphapml = 1j\n",
    "\n",
    "    boxmin = [-w_domain, -w_domain, 0]\n",
    "    boxmax = [w_domain, w_domain, h_domain]\n",
    "    ## i need to figure out if it is a problem to call SetPML at each iteration\n",
    "    mesh.SetPML(pml.Cartesian(mins=boxmin, maxs=boxmax, alpha=alphapml),\"pml_air|pml_sub\")\n",
    "\n",
    "    fes = Periodic(HCurl(mesh, order=porder, complex=True, dirichlet=\"dirichlet\"))\n",
    "\n",
    "    u, v = fes.TnT()\n",
    "\n",
    "    kzero = 2*pi/wl\n",
    "    a = BilinearForm(fes,condense=True,hermitian=False)\n",
    "    a += ((1./ur) * curl(u) * curl(v) - kzero**2 * er * u * v)*dx\n",
    "\n",
    "    f = LinearForm(fes)\n",
    "\n",
    "    #our system is excited at the subdomain air port by a plane wave in the x direction\n",
    "    #which is a constant vector field propagating with the propagation constant k0\n",
    "    e_in = mesh.BoundaryCF({\"air_port\":(0, 1, 0)},(0,0,0))\n",
    "    # print(e_in)\n",
    "    f += (-2j*kzero * e_in * v.Trace()) * ds(\"air_port\")\n",
    "    print(\"assembling system with ndofs {}\".format(sum(fes.FreeDofs())))\n",
    "    pre = Preconditioner(a, \"bddc\")\n",
    "    \n",
    "    with TaskManager():\n",
    "        a.Assemble()\n",
    "        f.Assemble()\n",
    "\n",
    "    print(\"done!\")\n",
    "    # the solution field \n",
    "    gfu = GridFunction(fes)\n",
    "    print(\"solving...\")\n",
    "    direct = True\n",
    "    s_begin = timer()\n",
    "    if direct:\n",
    "        with TaskManager():\n",
    "            gfu.vec.data = a.mat.Inverse(fes.FreeDofs(),inverse=\"pardiso\") * f.vec\n",
    "    else:\n",
    "        # pre = CreatePrecond(mesh, fes, a)\n",
    "        res = f.vec.CreateVector()\n",
    "        with TaskManager():\n",
    "            gfu.vec.data = GMRes(a.mat, f.vec, pre=pre, maxsteps=300, tol=1e-7, printrates=True, restart=100)\n",
    "            bc_projector = Projector(fes.FreeDofs(), True)\n",
    "            res.data = bc_projector*(f.vec - a.mat * gfu.vec)\n",
    "            print(\"res norm {}\".format(Norm(res)))\n",
    "\n",
    "    s_end = timer()\n",
    "\n",
    "    print(\"solved system in {} seconds\".format(s_end-s_begin))\n",
    "    ref = Integrate(InnerProduct(gfu - e_in, gfu - e_in)/(InnerProduct(e_in, e_in)+1e-12),\n",
    "                    mesh,BND, definedon=mesh.Boundaries(\"air_port\"))\n",
    "    ref_list.append(ref)\n",
    "    print(\"ref {} !\".format(abs(ref)))\n",
    "    \n",
    "\n",
    "    # plot the solution (netgen-gui only)\n",
    "    #as it is, it should work. Draw (gfu)"
   ]
  },
  {
   "cell_type": "markdown",
   "id": "3baf224e-8520-48b8-b085-474119776ebc",
   "metadata": {},
   "source": [
    "## Plotting data"
   ]
  },
  {
   "cell_type": "code",
   "execution_count": 10,
   "id": "bb15434c-9584-45ce-8532-b88c964b55b9",
   "metadata": {},
   "outputs": [],
   "source": [
    "def plot_data(wl, val, title):\n",
    "    x = list(wl)nval = len(ref_list)\n",
    "    y = list(np.abs(val))\n",
    "    ax = plt.gca()\n",
    "    ax.set_xlim([min(wl), max(wl)])\n",
    "    print(\"min val: {} max val {}\".format(min(y),max(y)))\n",
    "    ax.set_ylim([0, 1])\n",
    "\n",
    "    # plotting newer graph\n",
    "    plt.xlabel(r\"$\\lambda_0 \\mathrm{(\\mu m)}$\")\n",
    "    plt.ylabel(title)\n",
    "    plt.plot(x, y, color='#1f77b4', linewidth=3)\n"
   ]
  },
  {
   "cell_type": "code",
   "execution_count": 11,
   "id": "844967c3-e0e7-4d37-a66c-13beaf2ad633",
   "metadata": {},
   "outputs": [
    {
     "name": "stdout",
     "output_type": "stream",
     "text": [
      "min val: 0.5685849311144663 max val 1.6267639482728102\n"
     ]
    },
    {
     "data": {
      "image/png": "[encoded data removed]",
      "text/plain": [
       "<Figure size 640x480 with 1 Axes>"
      ]
     },
     "metadata": {},
     "output_type": "display_data"
    }
   ],
   "source": [
    "nval = len(ref_list)\n",
    "#maybe we have aborted the execution\n",
    "wl_plot = wl_list[:nval]\n",
    "plot_data(wl_plot,ref_list,\"Reflection\")"
   ]
  },
  {
   "cell_type": "markdown",
   "id": "adc1847a-51c8-4a6d-a355-627c96760d6f",
   "metadata": {},
   "source": [
    "## Computing PML parameter"
   ]
  },
  {
   "cell_type": "code",
   "execution_count": null,
   "id": "3d7ae2b3-e8f9-4fbc-8a1f-06ecaa4ae5b0",
   "metadata": {},
   "outputs": [],
   "source": [
    "R=10**-7\n",
    "n_mat = 1\n",
    "alpha = -(2+1)*1.0*np.log(R)/(4*np.pi*n_mat*h_pml)\n",
    "print(alpha)"
   ]
  },
  {
   "cell_type": "code",
   "execution_count": null,
   "id": "a0b4ebea-7052-4c58-b421-f00c2f49babb",
   "metadata": {},
   "outputs": [],
   "source": []
  }
 ],
 "metadata": {
  "kernelspec": {
   "display_name": "Python 3 (ipykernel)",
   "language": "python",
   "name": "python3"
  },
  "language_info": {
   "codemirror_mode": {
    "name": "ipython",
    "version": 3
   },
   "file_extension": ".py",
   "mimetype": "text/x-python",
   "name": "python",
   "nbconvert_exporter": "python",
   "pygments_lexer": "ipython3",
   "version": "3.12.3"
  }
 },
 "nbformat": 4,
 "nbformat_minor": 5
}
